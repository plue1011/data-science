{
 "cells": [
  {
   "cell_type": "markdown",
   "metadata": {
    "colab_type": "text",
    "id": "kc5G-LXuqR4j"
   },
   "source": [
    "# <center>ニューラルネットワーク入門</center><center>〜カテゴリ変数の埋め込み〜</center>"
   ]
  },
  {
   "cell_type": "markdown",
   "metadata": {
    "colab_type": "text",
    "id": "8GD4_QALqpAd"
   },
   "source": [
    "前回は、ニューラルネットワークの基礎と簡単にpytorchの使い方について紹介しました。(まだご覧でない方は[こちら](https://deepblue-ts.co.jp/python/nn-numpy-pytorch/))  \n",
    "今回は、実際にテーブルデータを使って、ニューラルネットワークを学習したいと思います。  \n",
    "しかし、ここで、数値データ以外のデータ(性別、飛行機の便、etc)をどのようにして扱うかが問題になってきます。  \n",
    "よって、今回は、そのようなデータを「埋め込み(embedding)」を使うことによって処理する方法を紹介します。(例えば、他に有名な処理ですと、one-hotエンコーディングがあります。)"
   ]
  },
  {
   "cell_type": "markdown",
   "metadata": {
    "colab_type": "text",
    "id": "mRbaNrX3sMaF"
   },
   "source": [
    "## 目標\n",
    "\n",
    "- カテゴリ変数を扱えるニューラルネットワークをpytorchで実装する\n",
    "- モデルの学習\n",
    "    - Dataset, DataLoaderの作成\n",
    "\n",
    "※ [こちら](https://www.kaggle.com/c/titanic/data)のタイタニックのデータセットを使います。  \n",
    "\n",
    "※ 本ページの目標は、あくまで上記ですので、欠損値の補完や標準化については、一番簡単な処理を行います。  \n",
    "\n",
    "※　数値データではないカラムをカテゴリ変数として処理しています。ご了承ください。\n",
    "\n",
    "※　詳しいコードは、[こちら](https://colab.research.google.com/github/plue1011/data-science/blob/master/kaggle/titanic/NN_0.ipynb)に記載しています。"
   ]
  },
  {
   "cell_type": "markdown",
   "metadata": {
    "colab_type": "text",
    "id": "argW08AJadxv"
   },
   "source": [
    "## ライブラリ"
   ]
  },
  {
   "cell_type": "code",
   "execution_count": null,
   "metadata": {
    "colab": {},
    "colab_type": "code",
    "id": "hEvbcw7zaS_q"
   },
   "outputs": [],
   "source": [
    "import random\n",
    "import os\n",
    "import pandas as pd\n",
    "import numpy as np\n",
    "from tqdm.notebook import tqdm\n",
    "import matplotlib.pyplot as plt\n",
    "\n",
    "import torch\n",
    "import torch.nn as nn\n",
    "import torch.nn.functional as F\n",
    "from torch.utils.data import Dataset, DataLoader\n",
    "\n",
    "from sklearn.preprocessing import StandardScaler\n",
    "from sklearn.preprocessing import LabelEncoder\n",
    "from sklearn.model_selection import train_test_split\n",
    "from sklearn.metrics import accuracy_score"
   ]
  },
  {
   "cell_type": "markdown",
   "metadata": {
    "colab_type": "text",
    "id": "vi8gHOErabrU"
   },
   "source": [
    "## config"
   ]
  },
  {
   "cell_type": "code",
   "execution_count": null,
   "metadata": {
    "colab": {},
    "colab_type": "code",
    "id": "TlZ3RG-nxgEO"
   },
   "outputs": [],
   "source": [
    "SEED = 0\n",
    "TRAIN_FILE = './dataset/train.csv'\n",
    "TEST_FILE = './dataset/test.csv'\n",
    "SUB_FILE = './dataset/gender_submission.csv'\n",
    "MODELS_DIR = \"./models/\"\n",
    "CATEGORICAL = ['Sex', 'Cabin', 'Embarked']\n",
    "NUMERICAL =  ['Pclass', 'Age', 'SibSp', 'Parch', 'Fare']\n",
    "TARGET = 'Survived'\n",
    "USE = CATEGORICAL + NUMERICAL\n",
    "DEVICE = torch.device(\"cuda:0\" if torch.cuda.is_available() else \"cpu\")\n",
    "EPOCHS = 300"
   ]
  },
  {
   "cell_type": "markdown",
   "metadata": {
    "colab_type": "text",
    "id": "l21buiwibSI9"
   },
   "source": [
    "## データの確認"
   ]
  },
  {
   "cell_type": "markdown",
   "metadata": {
    "colab_type": "text",
    "id": "Fk_-WRASxqZP"
   },
   "source": [
    "今回は以下のカラムを使用します。  \n",
    "`['Sex', 'Cabin', 'Embarked', 'Pclass', 'Age', 'SibSp', 'Parch', 'Fare']`"
   ]
  },
  {
   "cell_type": "code",
   "execution_count": null,
   "metadata": {
    "colab": {
     "base_uri": "https://localhost:8080/",
     "height": 197
    },
    "colab_type": "code",
    "id": "he32weRdbZR1",
    "outputId": "da491c16-53ae-41c9-9c57-d7baa181c9b4"
   },
   "outputs": [
    {
     "data": {
      "text/html": [
       "<div>\n",
       "<style scoped>\n",
       "    .dataframe tbody tr th:only-of-type {\n",
       "        vertical-align: middle;\n",
       "    }\n",
       "\n",
       "    .dataframe tbody tr th {\n",
       "        vertical-align: top;\n",
       "    }\n",
       "\n",
       "    .dataframe thead th {\n",
       "        text-align: right;\n",
       "    }\n",
       "</style>\n",
       "<table border=\"1\" class=\"dataframe\">\n",
       "  <thead>\n",
       "    <tr style=\"text-align: right;\">\n",
       "      <th></th>\n",
       "      <th>Sex</th>\n",
       "      <th>Cabin</th>\n",
       "      <th>Embarked</th>\n",
       "      <th>Pclass</th>\n",
       "      <th>Age</th>\n",
       "      <th>SibSp</th>\n",
       "      <th>Parch</th>\n",
       "      <th>Fare</th>\n",
       "      <th>Survived</th>\n",
       "    </tr>\n",
       "  </thead>\n",
       "  <tbody>\n",
       "    <tr>\n",
       "      <th>0</th>\n",
       "      <td>male</td>\n",
       "      <td>NaN</td>\n",
       "      <td>S</td>\n",
       "      <td>3</td>\n",
       "      <td>22.0</td>\n",
       "      <td>1</td>\n",
       "      <td>0</td>\n",
       "      <td>7.2500</td>\n",
       "      <td>0</td>\n",
       "    </tr>\n",
       "    <tr>\n",
       "      <th>1</th>\n",
       "      <td>female</td>\n",
       "      <td>C85</td>\n",
       "      <td>C</td>\n",
       "      <td>1</td>\n",
       "      <td>38.0</td>\n",
       "      <td>1</td>\n",
       "      <td>0</td>\n",
       "      <td>71.2833</td>\n",
       "      <td>1</td>\n",
       "    </tr>\n",
       "    <tr>\n",
       "      <th>2</th>\n",
       "      <td>female</td>\n",
       "      <td>NaN</td>\n",
       "      <td>S</td>\n",
       "      <td>3</td>\n",
       "      <td>26.0</td>\n",
       "      <td>0</td>\n",
       "      <td>0</td>\n",
       "      <td>7.9250</td>\n",
       "      <td>1</td>\n",
       "    </tr>\n",
       "    <tr>\n",
       "      <th>3</th>\n",
       "      <td>female</td>\n",
       "      <td>C123</td>\n",
       "      <td>S</td>\n",
       "      <td>1</td>\n",
       "      <td>35.0</td>\n",
       "      <td>1</td>\n",
       "      <td>0</td>\n",
       "      <td>53.1000</td>\n",
       "      <td>1</td>\n",
       "    </tr>\n",
       "    <tr>\n",
       "      <th>4</th>\n",
       "      <td>male</td>\n",
       "      <td>NaN</td>\n",
       "      <td>S</td>\n",
       "      <td>3</td>\n",
       "      <td>35.0</td>\n",
       "      <td>0</td>\n",
       "      <td>0</td>\n",
       "      <td>8.0500</td>\n",
       "      <td>0</td>\n",
       "    </tr>\n",
       "  </tbody>\n",
       "</table>\n",
       "</div>"
      ],
      "text/plain": [
       "      Sex Cabin Embarked  Pclass   Age  SibSp  Parch     Fare  Survived\n",
       "0    male   NaN        S       3  22.0      1      0   7.2500         0\n",
       "1  female   C85        C       1  38.0      1      0  71.2833         1\n",
       "2  female   NaN        S       3  26.0      0      0   7.9250         1\n",
       "3  female  C123        S       1  35.0      1      0  53.1000         1\n",
       "4    male   NaN        S       3  35.0      0      0   8.0500         0"
      ]
     },
     "execution_count": 7,
     "metadata": {
      "tags": []
     },
     "output_type": "execute_result"
    }
   ],
   "source": [
    "df_train = pd.read_csv(TRAIN_FILE)[USE+[TARGET]]\n",
    "df_test = pd.read_csv(TEST_FILE)[USE]\n",
    "df_train.head()"
   ]
  },
  {
   "cell_type": "markdown",
   "metadata": {
    "colab_type": "text",
    "id": "qeiTWBDcv-MZ"
   },
   "source": [
    "## 前処理"
   ]
  },
  {
   "cell_type": "markdown",
   "metadata": {
    "colab_type": "text",
    "id": "ORDC0LTOyDHo"
   },
   "source": [
    "カテゴリとして扱う変数に`category`と定義することが重要です。\n",
    "```\n",
    "# ラベルエンコーダ\n",
    "for col in df.columns:\n",
    "    if col in cat_cols:\n",
    "        df[col] = LabelEncoder().fit_transform(df[col])\n",
    "        df[col]= df[col].astype('category')\n",
    "```\n",
    "\n",
    "以下では、欠損値埋めと標準化、ラベルエンコードをしています。  \n",
    "\n",
    "※ 訓練データとテストデータをまとめて、標準化をしています。(訓練データのみでfitさせる方法もあります。)"
   ]
  },
  {
   "cell_type": "code",
   "execution_count": null,
   "metadata": {
    "colab": {
     "base_uri": "https://localhost:8080/",
     "height": 406
    },
    "colab_type": "code",
    "id": "D-v8WVcjdYLl",
    "outputId": "b3b79f6a-c472-407b-af7e-ea362023707c"
   },
   "outputs": [
    {
     "data": {
      "text/html": [
       "<div>\n",
       "<style scoped>\n",
       "    .dataframe tbody tr th:only-of-type {\n",
       "        vertical-align: middle;\n",
       "    }\n",
       "\n",
       "    .dataframe tbody tr th {\n",
       "        vertical-align: top;\n",
       "    }\n",
       "\n",
       "    .dataframe thead th {\n",
       "        text-align: right;\n",
       "    }\n",
       "</style>\n",
       "<table border=\"1\" class=\"dataframe\">\n",
       "  <thead>\n",
       "    <tr style=\"text-align: right;\">\n",
       "      <th></th>\n",
       "      <th>Sex</th>\n",
       "      <th>Cabin</th>\n",
       "      <th>Embarked</th>\n",
       "      <th>Pclass</th>\n",
       "      <th>Age</th>\n",
       "      <th>SibSp</th>\n",
       "      <th>Parch</th>\n",
       "      <th>Fare</th>\n",
       "      <th>Survived</th>\n",
       "    </tr>\n",
       "  </thead>\n",
       "  <tbody>\n",
       "    <tr>\n",
       "      <th>0</th>\n",
       "      <td>1</td>\n",
       "      <td>185</td>\n",
       "      <td>3</td>\n",
       "      <td>0.841916</td>\n",
       "      <td>-0.106773</td>\n",
       "      <td>0.481288</td>\n",
       "      <td>-0.445000</td>\n",
       "      <td>-0.503023</td>\n",
       "      <td>0</td>\n",
       "    </tr>\n",
       "    <tr>\n",
       "      <th>1</th>\n",
       "      <td>0</td>\n",
       "      <td>106</td>\n",
       "      <td>0</td>\n",
       "      <td>-1.546098</td>\n",
       "      <td>0.803138</td>\n",
       "      <td>0.481288</td>\n",
       "      <td>-0.445000</td>\n",
       "      <td>0.734878</td>\n",
       "      <td>1</td>\n",
       "    </tr>\n",
       "    <tr>\n",
       "      <th>2</th>\n",
       "      <td>0</td>\n",
       "      <td>185</td>\n",
       "      <td>3</td>\n",
       "      <td>0.841916</td>\n",
       "      <td>0.120704</td>\n",
       "      <td>-0.479087</td>\n",
       "      <td>-0.445000</td>\n",
       "      <td>-0.489974</td>\n",
       "      <td>1</td>\n",
       "    </tr>\n",
       "    <tr>\n",
       "      <th>3</th>\n",
       "      <td>0</td>\n",
       "      <td>70</td>\n",
       "      <td>3</td>\n",
       "      <td>-1.546098</td>\n",
       "      <td>0.632530</td>\n",
       "      <td>0.481288</td>\n",
       "      <td>-0.445000</td>\n",
       "      <td>0.383356</td>\n",
       "      <td>1</td>\n",
       "    </tr>\n",
       "    <tr>\n",
       "      <th>4</th>\n",
       "      <td>1</td>\n",
       "      <td>185</td>\n",
       "      <td>3</td>\n",
       "      <td>0.841916</td>\n",
       "      <td>0.632530</td>\n",
       "      <td>-0.479087</td>\n",
       "      <td>-0.445000</td>\n",
       "      <td>-0.487558</td>\n",
       "      <td>0</td>\n",
       "    </tr>\n",
       "    <tr>\n",
       "      <th>...</th>\n",
       "      <td>...</td>\n",
       "      <td>...</td>\n",
       "      <td>...</td>\n",
       "      <td>...</td>\n",
       "      <td>...</td>\n",
       "      <td>...</td>\n",
       "      <td>...</td>\n",
       "      <td>...</td>\n",
       "      <td>...</td>\n",
       "    </tr>\n",
       "    <tr>\n",
       "      <th>886</th>\n",
       "      <td>1</td>\n",
       "      <td>185</td>\n",
       "      <td>3</td>\n",
       "      <td>-0.352091</td>\n",
       "      <td>0.177574</td>\n",
       "      <td>-0.479087</td>\n",
       "      <td>-0.445000</td>\n",
       "      <td>-0.391864</td>\n",
       "      <td>0</td>\n",
       "    </tr>\n",
       "    <tr>\n",
       "      <th>887</th>\n",
       "      <td>0</td>\n",
       "      <td>40</td>\n",
       "      <td>3</td>\n",
       "      <td>-1.546098</td>\n",
       "      <td>-0.277382</td>\n",
       "      <td>-0.479087</td>\n",
       "      <td>-0.445000</td>\n",
       "      <td>-0.063217</td>\n",
       "      <td>1</td>\n",
       "    </tr>\n",
       "    <tr>\n",
       "      <th>888</th>\n",
       "      <td>0</td>\n",
       "      <td>185</td>\n",
       "      <td>3</td>\n",
       "      <td>0.841916</td>\n",
       "      <td>-1.357902</td>\n",
       "      <td>0.481288</td>\n",
       "      <td>1.866526</td>\n",
       "      <td>-0.189843</td>\n",
       "      <td>0</td>\n",
       "    </tr>\n",
       "    <tr>\n",
       "      <th>889</th>\n",
       "      <td>1</td>\n",
       "      <td>77</td>\n",
       "      <td>0</td>\n",
       "      <td>-1.546098</td>\n",
       "      <td>0.120704</td>\n",
       "      <td>-0.479087</td>\n",
       "      <td>-0.445000</td>\n",
       "      <td>-0.063217</td>\n",
       "      <td>1</td>\n",
       "    </tr>\n",
       "    <tr>\n",
       "      <th>890</th>\n",
       "      <td>1</td>\n",
       "      <td>185</td>\n",
       "      <td>2</td>\n",
       "      <td>0.841916</td>\n",
       "      <td>0.461921</td>\n",
       "      <td>-0.479087</td>\n",
       "      <td>-0.445000</td>\n",
       "      <td>-0.493357</td>\n",
       "      <td>0</td>\n",
       "    </tr>\n",
       "  </tbody>\n",
       "</table>\n",
       "<p>891 rows × 9 columns</p>\n",
       "</div>"
      ],
      "text/plain": [
       "    Sex Cabin Embarked    Pclass  ...     SibSp     Parch      Fare  Survived\n",
       "0     1   185        3  0.841916  ...  0.481288 -0.445000 -0.503023         0\n",
       "1     0   106        0 -1.546098  ...  0.481288 -0.445000  0.734878         1\n",
       "2     0   185        3  0.841916  ... -0.479087 -0.445000 -0.489974         1\n",
       "3     0    70        3 -1.546098  ...  0.481288 -0.445000  0.383356         1\n",
       "4     1   185        3  0.841916  ... -0.479087 -0.445000 -0.487558         0\n",
       "..   ..   ...      ...       ...  ...       ...       ...       ...       ...\n",
       "886   1   185        3 -0.352091  ... -0.479087 -0.445000 -0.391864         0\n",
       "887   0    40        3 -1.546098  ... -0.479087 -0.445000 -0.063217         1\n",
       "888   0   185        3  0.841916  ...  0.481288  1.866526 -0.189843         0\n",
       "889   1    77        0 -1.546098  ... -0.479087 -0.445000 -0.063217         1\n",
       "890   1   185        2  0.841916  ... -0.479087 -0.445000 -0.493357         0\n",
       "\n",
       "[891 rows x 9 columns]"
      ]
     },
     "execution_count": 10,
     "metadata": {
      "tags": []
     },
     "output_type": "execute_result"
    }
   ],
   "source": [
    "def preprocessing(df_train, df_test, cat_cols=CATEGORICAL, num_cols=NUMERICAL, target=TARGET):\n",
    "    df = pd.concat([df_train.drop(columns=target), df_test])\n",
    "    y = df_train[target]\n",
    "    train_len = len(df_train)\n",
    "\n",
    "    # 欠損埋め\n",
    "    df[cat_cols] = df[cat_cols].fillna('None')\n",
    "    df[num_cols] = df[num_cols].fillna(0)\n",
    "\n",
    "    # 標準化\n",
    "    scaler = StandardScaler()\n",
    "    scaler.fit(df[num_cols])\n",
    "    df[num_cols] = scaler.transform(df[num_cols])\n",
    "\n",
    "    # ラベルエンコーダ\n",
    "    for col in df.columns:\n",
    "        if col in cat_cols:\n",
    "            df[col] = LabelEncoder().fit_transform(df[col])\n",
    "            df[col]= df[col].astype('category')\n",
    "\n",
    "    return pd.concat([df.iloc[:train_len], y], axis=1), df.iloc[train_len:]\n",
    "\n",
    "df_train, df_test = preprocessing(df_train, df_test)\n",
    "df_train"
   ]
  },
  {
   "cell_type": "markdown",
   "metadata": {
    "colab_type": "text",
    "id": "o_GgoWHfywws"
   },
   "source": [
    "各列の情報を確認してみます。"
   ]
  },
  {
   "cell_type": "code",
   "execution_count": null,
   "metadata": {
    "colab": {
     "base_uri": "https://localhost:8080/",
     "height": 283
    },
    "colab_type": "code",
    "id": "ilM8PxN4erTD",
    "outputId": "f8c30c34-7121-46f7-a349-c3b62b522d6c"
   },
   "outputs": [
    {
     "name": "stdout",
     "output_type": "stream",
     "text": [
      "<class 'pandas.core.frame.DataFrame'>\n",
      "Int64Index: 891 entries, 0 to 890\n",
      "Data columns (total 9 columns):\n",
      " #   Column    Non-Null Count  Dtype   \n",
      "---  ------    --------------  -----   \n",
      " 0   Sex       891 non-null    category\n",
      " 1   Cabin     891 non-null    category\n",
      " 2   Embarked  891 non-null    category\n",
      " 3   Pclass    891 non-null    float64 \n",
      " 4   Age       891 non-null    float64 \n",
      " 5   SibSp     891 non-null    float64 \n",
      " 6   Parch     891 non-null    float64 \n",
      " 7   Fare      891 non-null    float64 \n",
      " 8   Survived  891 non-null    int64   \n",
      "dtypes: category(3), float64(5), int64(1)\n",
      "memory usage: 58.9 KB\n"
     ]
    }
   ],
   "source": [
    "df_train.info()"
   ]
  },
  {
   "cell_type": "markdown",
   "metadata": {
    "colab_type": "text",
    "id": "cYAXNtuIy-uo"
   },
   "source": [
    "学習データと検証データに分けます。今回は、簡単のためにhold-out形式です。"
   ]
  },
  {
   "cell_type": "code",
   "execution_count": null,
   "metadata": {
    "colab": {
     "base_uri": "https://localhost:8080/",
     "height": 33
    },
    "colab_type": "code",
    "id": "xUM9Ims7no5N",
    "outputId": "20f7323b-5f8d-4385-f329-b306bb06e383"
   },
   "outputs": [
    {
     "data": {
      "text/plain": [
       "((712, 8), (179, 8), (712,), (179,))"
      ]
     },
     "execution_count": 12,
     "metadata": {
      "tags": []
     },
     "output_type": "execute_result"
    }
   ],
   "source": [
    "X_train, X_val, y_train, y_val = train_test_split(df_train.drop(columns=TARGET), df_train[TARGET], test_size=0.20, random_state=SEED, shuffle=True) \n",
    "X_train.shape, X_val.shape, y_train.shape, y_val.shape"
   ]
  },
  {
   "cell_type": "markdown",
   "metadata": {
    "colab_type": "text",
    "id": "hHUcJXfqzQuT"
   },
   "source": [
    "カテゴリ変数を何次元に圧縮するかを`emb_szs`に設定しています。  \n",
    "例えば、果物というカラムに、「りんご」、「梨」、「ぶどう」が入っていたとすると、三種類ですので、3//2->1次元に圧縮します。  \n",
    "また、カラムのカテゴリ数が多い場合は、上限として50を設定しています。"
   ]
  },
  {
   "cell_type": "code",
   "execution_count": null,
   "metadata": {
    "colab": {
     "base_uri": "https://localhost:8080/",
     "height": 33
    },
    "colab_type": "code",
    "id": "gWhvfdp9vzgd",
    "outputId": "cae1d111-6ada-4322-8f23-7bd95c24d36a"
   },
   "outputs": [
    {
     "data": {
      "text/plain": [
       "[(2, 1), (187, 50), (4, 2)]"
      ]
     },
     "execution_count": 13,
     "metadata": {
      "tags": []
     },
     "output_type": "execute_result"
    }
   ],
   "source": [
    "cat_szs = [len(df_train[col].cat.categories) for col in CATEGORICAL]\n",
    "emb_szs = [(size, min(50, (size+1)//2)) for size in cat_szs]\n",
    "emb_szs"
   ]
  },
  {
   "cell_type": "markdown",
   "metadata": {
    "colab_type": "text",
    "id": "AxwjIi5-xLst"
   },
   "source": [
    "## Pytorch Dataset, DataLoaderの作成"
   ]
  },
  {
   "cell_type": "markdown",
   "metadata": {
    "colab_type": "text",
    "id": "-2rnzfi00Crx"
   },
   "source": [
    "DatasetとDataLoaderを作成します。  \n",
    "毎回のiterで、`[カテゴリカラムのデータ,   数値カラムのデータ, 教師データ]`が取り出されます。"
   ]
  },
  {
   "cell_type": "code",
   "execution_count": null,
   "metadata": {
    "colab": {},
    "colab_type": "code",
    "id": "tfQ0UunkwbDy"
   },
   "outputs": [],
   "source": [
    "class ClassificationColumnarDataset(Dataset):\n",
    "    def __init__(self, df, target, cat_cols=CATEGORICAL,):\n",
    "        self.df_cat = df[cat_cols]\n",
    "        self.df_num = df.drop(cat_cols, axis=1)\n",
    "        \n",
    "        self.X_cats = self.df_cat.values.astype(np.int64)\n",
    "        self.X_nums = self.df_num.values.astype(np.float32)\n",
    "        self.target = target.values.astype(np.int64)\n",
    "        \n",
    "    def __len__(self):\n",
    "        return len(self.target)\n",
    "\n",
    "    def __getitem__(self, idx):\n",
    "        return [self.X_cats[idx], self.X_nums[idx], self.target[idx]]"
   ]
  },
  {
   "cell_type": "code",
   "execution_count": null,
   "metadata": {
    "colab": {},
    "colab_type": "code",
    "id": "okSgKGMBzVAs"
   },
   "outputs": [],
   "source": [
    "train_dataset = ClassificationColumnarDataset(X_train, y_train)\n",
    "val_dataset = ClassificationColumnarDataset(X_val, y_val)\n",
    "test_dataset = ClassificationColumnarDataset(df_test, pd.Series(np.zeros(len(df_test)).astype(np.int64)))"
   ]
  },
  {
   "cell_type": "code",
   "execution_count": null,
   "metadata": {
    "colab": {},
    "colab_type": "code",
    "id": "NKQblbxb0c_N"
   },
   "outputs": [],
   "source": [
    "seed_set(SEED)\n",
    "train_dataloader = DataLoader(train_dataset, batch_size=256, shuffle=True)\n",
    "val_dataloader = DataLoader(val_dataset, batch_size=256, shuffle=False)\n",
    "test_dataloader = DataLoader(test_dataset, batch_size=256, shuffle=False)"
   ]
  },
  {
   "cell_type": "markdown",
   "metadata": {
    "colab_type": "text",
    "id": "VNvc71ipD2cQ"
   },
   "source": [
    "## ニューラルネットワーク(カテゴリ変数の埋め込み)"
   ]
  },
  {
   "cell_type": "markdown",
   "metadata": {
    "colab_type": "text",
    "id": "krzIHj0_00W3"
   },
   "source": [
    "モデルのイメージは以下の通りです。\n",
    "\n",
    "[画像挿入]"
   ]
  },
  {
   "cell_type": "code",
   "execution_count": 2,
   "metadata": {
    "colab": {},
    "colab_type": "code",
    "id": "Xxsdu9DiAWuy"
   },
   "outputs": [],
   "source": [
    "class TabularModel(nn.Module):\n",
    "    def __init__(self, embedding_sizes, n_num):\n",
    "        super().__init__()\n",
    "        self.embeddings = nn.ModuleList([nn.Embedding(categories, size) for categories, size in embedding_sizes])\n",
    "        n_emb = sum(e.embedding_dim for e in self.embeddings) #length of all embeddings combined\n",
    "        self.n_emb, self.n_num = n_emb, n_num\n",
    "        self.lin1 = nn.Linear(self.n_emb + self.n_num, 100)\n",
    "        self.lin2 = nn.Linear(100, 70)\n",
    "        self.lin3 = nn.Linear(70, 2)\n",
    "        self.bn1 = nn.BatchNorm1d(self.n_num)\n",
    "        self.bn2 = nn.BatchNorm1d(100)\n",
    "        self.bn3 = nn.BatchNorm1d(70)\n",
    "        self.emb_drop = nn.Dropout(0.6)\n",
    "        self.drops = nn.Dropout(0.3)\n",
    "\n",
    "\n",
    "    def forward(self, x_cat, x_num):\n",
    "        x = [e(x_cat[:, i]) for i, e in enumerate(self.embeddings)]\n",
    "        x = torch.cat(x, dim=1)\n",
    "        x = self.emb_drop(x)\n",
    "        x2 = self.bn1(x_num)\n",
    "        x = torch.cat([x, x2], dim=1)\n",
    "        x = F.relu(self.lin1(x))\n",
    "        x = self.drops(x)\n",
    "        x = self.bn2(x)\n",
    "        x = F.relu(self.lin2(x))\n",
    "        x = self.drops(x)\n",
    "        x = self.bn3(x)\n",
    "        x = self.lin3(x)\n",
    "        return x"
   ]
  },
  {
   "cell_type": "code",
   "execution_count": null,
   "metadata": {
    "colab": {},
    "colab_type": "code",
    "id": "iTrofUspE1fP"
   },
   "outputs": [],
   "source": [
    "model = TabularModel(emb_szs, len(NUMERICAL)).to(DEVICE)\n",
    "compute_loss = nn.CrossEntropyLoss()\n",
    "optimizer = torch.optim.Adam(model.parameters(),\n",
    "                            lr=0.001,\n",
    "                            betas=(0.9, 0.999), \n",
    "                            amsgrad=True)"
   ]
  },
  {
   "cell_type": "markdown",
   "metadata": {
    "colab_type": "text",
    "id": "klEMzsXOHq-i"
   },
   "source": [
    "## 学習"
   ]
  },
  {
   "cell_type": "markdown",
   "metadata": {
    "colab_type": "text",
    "id": "IkaEpW-t10c7"
   },
   "source": [
    "学習のためには以下で十分ですが、より詳しいコードは、[こちら](https://colab.research.google.com/github/plue1011/data-science/blob/master/kaggle/titanic/NN_0.ipynb)をご覧ください。"
   ]
  },
  {
   "cell_type": "code",
   "execution_count": 3,
   "metadata": {
    "colab": {},
    "colab_type": "code",
    "id": "8-O_i2NoGbML"
   },
   "outputs": [],
   "source": [
    "for epoch in range(EPOCHS):\n",
    "    # 学習\n",
    "    model.train()\n",
    "    for batch_idx, (cat_data, num_data, target) in enumerate(train_dataloader):\n",
    "        cat_data, num_data, target = cat_data.to(DEVICE), num_data.to(DEVICE), target.to(DEVICE)\n",
    "        optimizer.zero_grad()\n",
    "        output = model(cat_data, num_data)\n",
    "        loss = compute_loss(output, target)\n",
    "        loss.backward()\n",
    "        optimizer.step()"
   ]
  },
  {
   "cell_type": "markdown",
   "metadata": {
    "colab_type": "text",
    "id": "Z4d9RPKsXXri"
   },
   "source": [
    "## 参考\n",
    "以下では、より詳細な説明がありますので、興味のある方はご覧ください。\n",
    "\n",
    "- https://towardsdatascience.com/deep-learning-for-tabular-data-using-pytorch-1807f2858320\n",
    "- https://towardsdatascience.com/deep-learning-using-pytorch-for-tabular-data-c68017d8b480\n",
    "- https://arxiv.org/pdf/1604.06737.pdf"
   ]
  },
  {
   "cell_type": "code",
   "execution_count": null,
   "metadata": {
    "colab": {},
    "colab_type": "code",
    "id": "wV9U8DZI0tsH"
   },
   "outputs": [],
   "source": []
  }
 ],
 "metadata": {
  "accelerator": "GPU",
  "colab": {
   "collapsed_sections": [],
   "name": "NN_0_blog.ipynb",
   "provenance": []
  },
  "kernelspec": {
   "display_name": "Python 3",
   "language": "python",
   "name": "python3"
  },
  "language_info": {
   "codemirror_mode": {
    "name": "ipython",
    "version": 3
   },
   "file_extension": ".py",
   "mimetype": "text/x-python",
   "name": "python",
   "nbconvert_exporter": "python",
   "pygments_lexer": "ipython3",
   "version": "3.7.6"
  }
 },
 "nbformat": 4,
 "nbformat_minor": 1
}
